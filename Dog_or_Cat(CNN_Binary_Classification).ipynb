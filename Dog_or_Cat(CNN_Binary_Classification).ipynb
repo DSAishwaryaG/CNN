{
 "cells": [
  {
   "cell_type": "markdown",
   "metadata": {
    "id": "3DR-eO17geWu"
   },
   "source": [
    "# Convolutional Neural Network"
   ]
  },
  {
   "cell_type": "markdown",
   "metadata": {
    "id": "EMefrVPCg-60"
   },
   "source": [
    "### Importing the libraries"
   ]
  },
  {
   "cell_type": "code",
   "execution_count": 1,
   "metadata": {},
   "outputs": [
    {
     "name": "stdout",
     "output_type": "stream",
     "text": [
      "Python 3.7.6\n"
     ]
    }
   ],
   "source": [
    "!python --version"
   ]
  },
  {
   "cell_type": "code",
   "execution_count": 2,
   "metadata": {
    "id": "EIm0NdE52TmA"
   },
   "outputs": [],
   "source": [
    "import numpy as np\n",
    "import tensorflow as tf\n",
    "from keras.preprocessing.image import ImageDataGenerator #for image preprocessing"
   ]
  },
  {
   "cell_type": "code",
   "execution_count": 3,
   "metadata": {
    "colab": {
     "base_uri": "https://localhost:8080/",
     "height": 36
    },
    "id": "zYs3BReb3Vwv",
    "outputId": "bada268d-01e1-4db9-805e-12d90a79fba0"
   },
   "outputs": [
    {
     "data": {
      "text/plain": [
       "'2.5.0'"
      ]
     },
     "execution_count": 3,
     "metadata": {},
     "output_type": "execute_result"
    }
   ],
   "source": [
    "tf.__version__"
   ]
  },
  {
   "cell_type": "markdown",
   "metadata": {
    "id": "oxQxCBWyoGPE"
   },
   "source": [
    "## Part 1 - Data Preprocessing"
   ]
  },
  {
   "cell_type": "markdown",
   "metadata": {
    "id": "MvE-heJNo3GG"
   },
   "source": [
    "### Preprocessing the Training set"
   ]
  },
  {
   "cell_type": "code",
   "execution_count": 4,
   "metadata": {
    "colab": {
     "base_uri": "https://localhost:8080/",
     "height": 395
    },
    "id": "KO6mA7vZ3gqU",
    "outputId": "516ac5f4-3778-4173-fb32-f7ab4435e079"
   },
   "outputs": [
    {
     "name": "stdout",
     "output_type": "stream",
     "text": [
      "Found 8000 images belonging to 2 classes.\n"
     ]
    }
   ],
   "source": [
    "#Apply transformations on training set image only and transformations are applied to avoid overfitting (Image Augmentation)\n",
    "#Horizontal flips , pixel shifts , zoom in , zoom out are few image transformations\n",
    "train_datagen = ImageDataGenerator(\n",
    "        rescale=1./255,#feature scales the pixels(which are between 0 and 255) by dividing by 255 to get \n",
    "                      #values between 0 ans 1(Normalisation)\n",
    "        shear_range=0.2,\n",
    "        zoom_range=0.2,\n",
    "        horizontal_flip=True)\n",
    "training_set = train_datagen.flow_from_directory(\n",
    "        'C:/Users/aish2/Documents/Deep Learning/UDEMY/CNN/Dog or Cat (Binary_Classification)/dataset/training_set',\n",
    "        target_size=(64, 64),#to reduce computation(training gets faster)\n",
    "        batch_size=32,#no of images in each batch\n",
    "        class_mode='binary')#as outcome is binary(cat or dog),it can be categorical if output is categorical"
   ]
  },
  {
   "cell_type": "markdown",
   "metadata": {
    "id": "mrCMmGw9pHys"
   },
   "source": [
    "### Preprocessing the Test set"
   ]
  },
  {
   "cell_type": "code",
   "execution_count": 5,
   "metadata": {
    "id": "fkPjjg4LPfAV"
   },
   "outputs": [
    {
     "name": "stdout",
     "output_type": "stream",
     "text": [
      "Found 2000 images belonging to 2 classes.\n"
     ]
    }
   ],
   "source": [
    "test_datagen = ImageDataGenerator(rescale=1./255)#only rescale and other transformations are not applied \n",
    "                                                 #as they cause information leakage from test set\n",
    "test_set = test_datagen.flow_from_directory(\n",
    "        'C:/Users/aish2/Documents/Deep Learning/UDEMY/CNN/Dog or Cat (Binary_Classification)/dataset/test_set',\n",
    "        target_size=(64, 64),\n",
    "        batch_size=32,\n",
    "        class_mode='binary')"
   ]
  },
  {
   "cell_type": "markdown",
   "metadata": {
    "id": "af8O4l90gk7B"
   },
   "source": [
    "## Part 2 - Building the CNN"
   ]
  },
  {
   "cell_type": "markdown",
   "metadata": {
    "id": "ces1gXY2lmoX"
   },
   "source": [
    "### Initialising the CNN"
   ]
  },
  {
   "cell_type": "code",
   "execution_count": 19,
   "metadata": {
    "id": "OkuRcrK-ROaW"
   },
   "outputs": [],
   "source": [
    "cnn = tf.keras.models.Sequential()"
   ]
  },
  {
   "cell_type": "markdown",
   "metadata": {
    "id": "u5YJj_XMl5LF"
   },
   "source": [
    "### Step 1 - Convolution"
   ]
  },
  {
   "cell_type": "code",
   "execution_count": 23,
   "metadata": {
    "id": "vg-fhL0ORhsb"
   },
   "outputs": [],
   "source": [
    "cnn.add(tf.keras.layers.Conv2D(filters=32,kernel_size=3,activation='relu',input_shape=[64,64,3]))#if black & white images,\n",
    "                                          #input_shape=1 and filters are chosen as per a classic model"
   ]
  },
  {
   "cell_type": "markdown",
   "metadata": {
    "id": "tf87FpvxmNOJ"
   },
   "source": [
    "### Step 2 - Pooling"
   ]
  },
  {
   "cell_type": "code",
   "execution_count": 24,
   "metadata": {
    "id": "sfyL4XjRTXeS"
   },
   "outputs": [],
   "source": [
    "cnn.add(tf.keras.layers.MaxPool2D(pool_size=2,strides=2))"
   ]
  },
  {
   "cell_type": "markdown",
   "metadata": {
    "id": "xaTOgD8rm4mU"
   },
   "source": [
    "### Add Second Convolution Layer\n",
    "\n"
   ]
  },
  {
   "cell_type": "code",
   "execution_count": 25,
   "metadata": {
    "id": "2vzaInERVL8Y"
   },
   "outputs": [],
   "source": [
    "cnn.add(tf.keras.layers.Conv2D(filters=32,kernel_size=3,activation='relu'))#input_shape is not required now as we are not working on pooled data \n",
    "                                                                           #and not on input data"
   ]
  },
  {
   "cell_type": "markdown",
   "metadata": {
    "id": "Qa3pGez-VPph"
   },
   "source": [
    "### Add Second Pooling Layer"
   ]
  },
  {
   "cell_type": "code",
   "execution_count": 26,
   "metadata": {
    "id": "ijkIQLYFVpkX"
   },
   "outputs": [],
   "source": [
    "cnn.add(tf.keras.layers.MaxPool2D(pool_size=2,strides=2))"
   ]
  },
  {
   "cell_type": "markdown",
   "metadata": {
    "id": "tmiEuvTunKfk"
   },
   "source": [
    "### Step 3 - Flattening"
   ]
  },
  {
   "cell_type": "code",
   "execution_count": 27,
   "metadata": {
    "id": "7MuQWC4FVtZ6"
   },
   "outputs": [],
   "source": [
    "cnn.add(tf.keras.layers.Flatten())"
   ]
  },
  {
   "cell_type": "markdown",
   "metadata": {
    "id": "dAoSECOm203v"
   },
   "source": [
    "### Step 4 - Full Connection"
   ]
  },
  {
   "cell_type": "code",
   "execution_count": 28,
   "metadata": {
    "id": "XzEG4nbc1P3d"
   },
   "outputs": [],
   "source": [
    "cnn.add(tf.keras.layers.Dense(units=128,activation='relu'))#as long as we havenot \n",
    "                                                     #reached output layer, relu activation function is recommended"
   ]
  },
  {
   "cell_type": "markdown",
   "metadata": {
    "id": "yTldFvbX28Na"
   },
   "source": [
    "### Step 5 - Output Layer"
   ]
  },
  {
   "cell_type": "code",
   "execution_count": 29,
   "metadata": {
    "id": "t6PZ2he82GHG"
   },
   "outputs": [],
   "source": [
    "cnn.add(tf.keras.layers.Dense(units=1,activation='sigmoid'))"
   ]
  },
  {
   "cell_type": "markdown",
   "metadata": {
    "id": "D6XkI90snSDl"
   },
   "source": [
    "## Part 3 - Training the CNN"
   ]
  },
  {
   "cell_type": "markdown",
   "metadata": {
    "id": "vfrFQACEnc6i"
   },
   "source": [
    "\n",
    "### Compiling the CNN"
   ]
  },
  {
   "cell_type": "code",
   "execution_count": 30,
   "metadata": {
    "id": "_n7yXX3q2rGq"
   },
   "outputs": [],
   "source": [
    "#we will evaluate the same model on test simultaneously\n",
    "cnn.compile(optimizer='adam',loss='binary_crossentropy',metrics=['accuracy'])"
   ]
  },
  {
   "cell_type": "markdown",
   "metadata": {
    "id": "ehS-v3MIpX2h"
   },
   "source": [
    "### Training the CNN on the Training set and evaluating it on the Test set"
   ]
  },
  {
   "cell_type": "code",
   "execution_count": 39,
   "metadata": {
    "id": "DP3ZElwQ3_1X"
   },
   "outputs": [
    {
     "name": "stdout",
     "output_type": "stream",
     "text": [
      "Epoch 1/25\n",
      "250/250 [==============================] - 90s 358ms/step - loss: 0.6833 - accuracy: 0.5501 - val_loss: 0.6588 - val_accuracy: 0.5930\n",
      "Epoch 2/25\n",
      "250/250 [==============================] - 87s 349ms/step - loss: 0.6430 - accuracy: 0.6244 - val_loss: 0.6301 - val_accuracy: 0.6375\n",
      "Epoch 3/25\n",
      "250/250 [==============================] - 89s 357ms/step - loss: 0.5912 - accuracy: 0.6842 - val_loss: 0.5669 - val_accuracy: 0.7110\n",
      "Epoch 4/25\n",
      "250/250 [==============================] - 90s 361ms/step - loss: 0.5571 - accuracy: 0.7144 - val_loss: 0.5342 - val_accuracy: 0.7410\n",
      "Epoch 5/25\n",
      "250/250 [==============================] - 89s 356ms/step - loss: 0.5271 - accuracy: 0.7423 - val_loss: 0.4938 - val_accuracy: 0.7580\n",
      "Epoch 6/25\n",
      "250/250 [==============================] - 90s 359ms/step - loss: 0.5016 - accuracy: 0.7560 - val_loss: 0.4793 - val_accuracy: 0.7770\n",
      "Epoch 7/25\n",
      "250/250 [==============================] - 88s 354ms/step - loss: 0.4877 - accuracy: 0.7642 - val_loss: 0.4845 - val_accuracy: 0.7765\n",
      "Epoch 8/25\n",
      "250/250 [==============================] - 89s 355ms/step - loss: 0.4689 - accuracy: 0.7745 - val_loss: 0.4561 - val_accuracy: 0.7930\n",
      "Epoch 9/25\n",
      "250/250 [==============================] - 88s 351ms/step - loss: 0.4500 - accuracy: 0.7903 - val_loss: 0.4504 - val_accuracy: 0.7855\n",
      "Epoch 10/25\n",
      "250/250 [==============================] - 89s 355ms/step - loss: 0.4415 - accuracy: 0.7925 - val_loss: 0.4245 - val_accuracy: 0.8095\n",
      "Epoch 11/25\n",
      "250/250 [==============================] - 90s 360ms/step - loss: 0.4257 - accuracy: 0.8041 - val_loss: 0.4306 - val_accuracy: 0.7970\n",
      "Epoch 12/25\n",
      "250/250 [==============================] - 59s 236ms/step - loss: 0.4107 - accuracy: 0.8099 - val_loss: 0.4233 - val_accuracy: 0.8055\n",
      "Epoch 13/25\n",
      "250/250 [==============================] - 68s 274ms/step - loss: 0.4105 - accuracy: 0.8070 - val_loss: 0.4369 - val_accuracy: 0.8050\n",
      "Epoch 14/25\n",
      "250/250 [==============================] - 89s 354ms/step - loss: 0.3890 - accuracy: 0.8254 - val_loss: 0.3905 - val_accuracy: 0.8190\n",
      "Epoch 15/25\n",
      "250/250 [==============================] - 88s 351ms/step - loss: 0.3861 - accuracy: 0.8229 - val_loss: 0.3927 - val_accuracy: 0.8235\n",
      "Epoch 16/25\n",
      "250/250 [==============================] - 89s 357ms/step - loss: 0.3801 - accuracy: 0.8288 - val_loss: 0.4469 - val_accuracy: 0.8060\n",
      "Epoch 17/25\n",
      "250/250 [==============================] - 90s 362ms/step - loss: 0.3708 - accuracy: 0.8304 - val_loss: 0.3867 - val_accuracy: 0.8325\n",
      "Epoch 18/25\n",
      "250/250 [==============================] - 88s 350ms/step - loss: 0.3605 - accuracy: 0.8371 - val_loss: 0.4117 - val_accuracy: 0.8210\n",
      "Epoch 19/25\n",
      "250/250 [==============================] - 2923s 12s/step - loss: 0.3510 - accuracy: 0.8441 - val_loss: 0.4150 - val_accuracy: 0.8245\n",
      "Epoch 20/25\n",
      "250/250 [==============================] - 56s 223ms/step - loss: 0.3350 - accuracy: 0.8494 - val_loss: 0.3922 - val_accuracy: 0.8335\n",
      "Epoch 21/25\n",
      "250/250 [==============================] - 55s 219ms/step - loss: 0.3398 - accuracy: 0.8446 - val_loss: 0.3858 - val_accuracy: 0.8345\n",
      "Epoch 22/25\n",
      "250/250 [==============================] - 55s 219ms/step - loss: 0.3296 - accuracy: 0.8551 - val_loss: 0.4042 - val_accuracy: 0.8215\n",
      "Epoch 23/25\n",
      "250/250 [==============================] - 72s 289ms/step - loss: 0.3235 - accuracy: 0.8566 - val_loss: 0.4224 - val_accuracy: 0.8215\n",
      "Epoch 24/25\n",
      "250/250 [==============================] - 88s 353ms/step - loss: 0.3153 - accuracy: 0.8624 - val_loss: 0.3887 - val_accuracy: 0.8410\n",
      "Epoch 25/25\n",
      "250/250 [==============================] - 87s 350ms/step - loss: 0.3088 - accuracy: 0.8622 - val_loss: 0.3801 - val_accuracy: 0.8355\n"
     ]
    },
    {
     "data": {
      "text/plain": [
       "<tensorflow.python.keras.callbacks.History at 0x179c57ddb88>"
      ]
     },
     "execution_count": 39,
     "metadata": {},
     "output_type": "execute_result"
    }
   ],
   "source": [
    "cnn.fit(x=training_set,validation_data=test_set,epochs=25)"
   ]
  },
  {
   "cell_type": "markdown",
   "metadata": {
    "id": "U3PZasO0006Z"
   },
   "source": [
    "## Part 4 - Making a single prediction"
   ]
  },
  {
   "cell_type": "code",
   "execution_count": 46,
   "metadata": {
    "id": "9YgQ-12N50yZ"
   },
   "outputs": [],
   "source": [
    "from keras.preprocessing import image\n",
    "test_image = image.load_img('C:/Users/aish2/Documents/Deep Learning/UDEMY/CNN/Dog or Cat (Binary_Classification)/dataset/single_prediction/cat_or_dog_2.jpg',target_size=(64,64))\n",
    "test_image = image.img_to_array(test_image)#converts a PIL image instance to a numpy array as predict accepts an array\n",
    "#test_image = np.expand_dims(test_image,axis=0)#correspond to a batch which will contain the test image \n",
    "                      #as cnn was trained with batches of images \n",
    "                      #to expand array i.e to add dimension\n",
    "test_image = test_image.reshape(1, 64, 64, 3)#to expand array i.e to add dimension\n",
    "\n",
    "result = cnn.predict(test_image/255)#result also contains result into a batch i.e it will also have batch dimension\n",
    "training_set.class_indices\n",
    "if result[0][0] > 0.5:#result[0][0] where first [0] represents one batch with starting index 0 \n",
    "                    #and the second [0] represents element of the batch which is test image with index 0\n",
    "  prediction = 'dog'\n",
    "else:\n",
    "  prediction = 'cat'"
   ]
  },
  {
   "cell_type": "code",
   "execution_count": 47,
   "metadata": {
    "id": "iLno8oII_whJ"
   },
   "outputs": [
    {
     "name": "stdout",
     "output_type": "stream",
     "text": [
      "cat\n"
     ]
    }
   ],
   "source": [
    "print(prediction)"
   ]
  },
  {
   "cell_type": "code",
   "execution_count": null,
   "metadata": {},
   "outputs": [],
   "source": []
  },
  {
   "cell_type": "code",
   "execution_count": null,
   "metadata": {},
   "outputs": [],
   "source": []
  }
 ],
 "metadata": {
  "colab": {
   "collapsed_sections": [],
   "name": "Dog or Cat(CNN_Binary_Classification).ipynb",
   "provenance": [],
   "toc_visible": true
  },
  "kernelspec": {
   "display_name": "Python 3",
   "language": "python",
   "name": "python3"
  },
  "language_info": {
   "codemirror_mode": {
    "name": "ipython",
    "version": 3
   },
   "file_extension": ".py",
   "mimetype": "text/x-python",
   "name": "python",
   "nbconvert_exporter": "python",
   "pygments_lexer": "ipython3",
   "version": "3.7.6"
  }
 },
 "nbformat": 4,
 "nbformat_minor": 1
}
